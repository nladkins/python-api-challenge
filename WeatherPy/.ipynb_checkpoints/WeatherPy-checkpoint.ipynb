{
 "cells": [
  {
   "cell_type": "markdown",
   "metadata": {},
   "source": [
    "# WeatherPy\n",
    "----\n",
    "\n",
    "#### Three observable Trends\n",
    "1) The plot shows that the farther away from the equator (Latitude = 0), the max temp is colder (lower temperatures).\n",
    "\n",
    "2) The further you get away from the equator, the higher the wind speed.  Around the equator, there is much more variance. \n",
    "\n",
    "3) The further away from the equator, the less sample data becomes available."
   ]
  },
  {
   "cell_type": "code",
   "execution_count": 1,
   "metadata": {
    "scrolled": true
   },
   "outputs": [],
   "source": [
    "# Dependencies and Setup\n",
    "import matplotlib.pyplot as plt\n",
    "import pandas as pd\n",
    "import numpy as np\n",
    "import json\n",
    "from pprint import pprint\n",
    "import requests\n",
    "import time\n",
    "from scipy import stats\n",
    "\n",
    "# Import API key\n",
    "from api_keys import weather_api_key\n",
    "\n",
    "# Incorporated citipy to determine city based on latitude and longitude\n",
    "from citipy import citipy\n",
    "\n",
    "# Output File (CSV)\n",
    "output_data_file = \"output_data/cities.csv\"\n",
    "\n",
    "# Range of latitudes and longitudes\n",
    "lat_range = (-90, 90)\n",
    "lng_range = (-180, 180)"
   ]
  },
  {
   "cell_type": "markdown",
   "metadata": {},
   "source": [
    "## Generate Cities List"
   ]
  },
  {
   "cell_type": "code",
   "execution_count": 2,
   "metadata": {
    "scrolled": true
   },
   "outputs": [
    {
     "data": {
      "text/plain": [
       "646"
      ]
     },
     "execution_count": 2,
     "metadata": {},
     "output_type": "execute_result"
    }
   ],
   "source": [
    "# List for holding lat_lngs and cities\n",
    "lat_lngs = []\n",
    "cities = []\n",
    "\n",
    "# Create a set of random lat and lng combinations\n",
    "lats = np.random.uniform(lat_range[0], lat_range[1], size=1500)\n",
    "lngs = np.random.uniform(lng_range[0], lng_range[1], size=1500)\n",
    "lat_lngs = zip(lats, lngs)\n",
    "\n",
    "# Identify nearest city for each lat, lng combination (finding the city closest to the location)\n",
    "for lat_lng in lat_lngs:\n",
    "    city = citipy.nearest_city(lat_lng[0], lat_lng[1]).city_name\n",
    "    \n",
    "    # If the city is unique, then add it to a our cities list\n",
    "    if city not in cities:\n",
    "        cities.append(city)\n",
    "\n",
    "# Print the city count to confirm sufficient count\n",
    "len(cities)"
   ]
  },
  {
   "cell_type": "markdown",
   "metadata": {},
   "source": [
    "### Perform API Calls\n",
    "* Perform a weather check on each city using a series of successive API calls.\n",
    "* Include a print log of each city as it'sbeing processed (with the city number and city name).\n"
   ]
  },
  {
   "cell_type": "code",
   "execution_count": 3,
   "metadata": {},
   "outputs": [
    {
     "name": "stdout",
     "output_type": "stream",
     "text": [
      "{'base': 'stations',\n",
      " 'clouds': {'all': 82},\n",
      " 'cod': 200,\n",
      " 'coord': {'lat': 39.7392, 'lon': -104.9847},\n",
      " 'dt': 1634953219,\n",
      " 'id': 5419384,\n",
      " 'main': {'feels_like': 54.88,\n",
      "          'humidity': 26,\n",
      "          'pressure': 1010,\n",
      "          'temp': 58.14,\n",
      "          'temp_max': 65.59,\n",
      "          'temp_min': 49.08},\n",
      " 'name': 'Denver',\n",
      " 'sys': {'country': 'US',\n",
      "         'id': 2004334,\n",
      "         'sunrise': 1634908663,\n",
      "         'sunset': 1634947841,\n",
      "         'type': 2},\n",
      " 'timezone': -21600,\n",
      " 'visibility': 10000,\n",
      " 'weather': [{'description': 'broken clouds',\n",
      "              'icon': '04n',\n",
      "              'id': 803,\n",
      "              'main': 'Clouds'}],\n",
      " 'wind': {'deg': 115, 'gust': 3, 'speed': 1.01}}\n"
     ]
    }
   ],
   "source": [
    "# Query Dependencies\n",
    "url = \"http://api.openweathermap.org/data/2.5/weather?\"\n",
    "units = \"imperial\"\n",
    "\n",
    "# Build partial query URL\n",
    "test_query_url = f\"{url}&units={units}&appid={weather_api_key}&q=\"\n",
    "\n",
    "# test query and preview json\n",
    "test_city = \"denver\"\n",
    "pprint(requests.get(test_query_url + test_city).json())"
   ]
  },
  {
   "cell_type": "code",
   "execution_count": 4,
   "metadata": {
    "scrolled": false
   },
   "outputs": [],
   "source": [
    "# set up lists to hold reponse info\n",
    "url = \"http://api.openweathermap.org/data/2.5/weather?\"\n",
    "units = \"imperial\"\n",
    "identifier = []\n",
    "temp = []\n",
    "humidity = []\n",
    "\n",
    "# Farenheit Temperature Measurement\n",
    "units = \"imperial\"\n",
    "\n",
    "clouds = []\n",
    "wind = []\n",
    "lat = []\n",
    "lon = []\n",
    "final_city = []\n",
    "\n",
    "# The \"id\" field in the API result, when typed, shows as a code.  This formula gets around this issue.\n",
    "i = 0"
   ]
  },
  {
   "cell_type": "code",
   "execution_count": 5,
   "metadata": {},
   "outputs": [
    {
     "name": "stdout",
     "output_type": "stream",
     "text": [
      "The temperature in broken hill, city id 2173911, is 67.71\n",
      "The temperature in kaitangata, city id 2208248, is 60.67\n",
      "The temperature in hermanus, city id 3366880, is 59.81\n",
      "The temperature in saskylakh, city id 2017155, is -13.47\n",
      "The temperature in jamestown, city id 5122534, is 43.54\n",
      "The temperature in farafangana, city id 1065158, is 70.43\n",
      "The temperature in tarauaca, city id 3661980, is 77.02\n",
      "The temperature in los llanos de aridane, city id 2514651, is 65.12\n",
      "The temperature in ushuaia, city id 3833367, is 40.66\n",
      "The temperature in nikolskoye, city id 546105, is 43.02\n",
      "The temperature in saint-philippe, city id 935215, is 71.2\n",
      "The temperature in sangar, city id 2017215, is 20.55\n",
      "The temperature in arraial do cabo, city id 3471451, is 68.65\n",
      "The temperature in hobyo, city id 57000, is 78.76\n",
      "City not found\n",
      "The temperature in broome, city id 5110365, is 41.25\n",
      "The temperature in mar del plata, city id 3430863, is 54.59\n",
      "The temperature in mataura, city id 6201424, is 72.32\n",
      "The temperature in bredasdorp, city id 1015776, is 56.52\n",
      "The temperature in albany, city id 5106841, is 42.6\n",
      "The temperature in cabo san lucas, city id 3985710, is 80.38\n",
      "The temperature in garowe, city id 58933, is 72.91\n",
      "The temperature in hilo, city id 5855927, is 75.49\n",
      "The temperature in dikson, city id 1507390, is 13.87\n",
      "The temperature in turkistan, city id 1524787, is 39.4\n",
      "The temperature in kapaa, city id 5848280, is 77.95\n",
      "The temperature in cape town, city id 3369157, is 56.59\n",
      "The temperature in hobart, city id 2163355, is 53.1\n",
      "The temperature in yellowknife, city id 6185377, is 41.88\n",
      "The temperature in tibati, city id 2221530, is 66.11\n",
      "The temperature in mahebourg, city id 934322, is 71.89\n",
      "The temperature in san patricio, city id 4726521, is 78.1\n",
      "The temperature in bull savanna, city id 3491161, is 76.98\n",
      "City not found\n",
      "The temperature in hun, city id 2216645, is 72.36\n",
      "The temperature in port alfred, city id 964432, is 61.32\n",
      "The temperature in lebu, city id 3883457, is 50.67\n",
      "The temperature in pyapon, city id 1299237, is 78.44\n",
      "The temperature in pochutla, city id 3517970, is 75.81\n",
      "The temperature in maragogi, city id 3395458, is 77.34\n",
      "The temperature in castro, city id 3466704, is 55.31\n",
      "The temperature in saint george, city id 5546220, is 69.96\n",
      "The temperature in new norfolk, city id 2155415, is 52.57\n",
      "The temperature in vila franca do campo, city id 3372472, is 70.21\n",
      "The temperature in gamba, city id 2400547, is 76.35\n",
      "The temperature in msanga, city id 153046, is 66.18\n",
      "The temperature in busselton, city id 2075265, is 63.63\n",
      "The temperature in bluff, city id 2206939, is 56.8\n",
      "The temperature in ribeira grande, city id 3372707, is 68.76\n",
      "The temperature in vao, city id 2137773, is 73.24\n",
      "The temperature in ancud, city id 3899695, is 47.73\n",
      "The temperature in amazar, city id 2027806, is 41.77\n",
      "The temperature in lucieni, city id 674560, is 56.05\n",
      "City not found\n",
      "The temperature in ixtapa, city id 4004293, is 78.75\n",
      "The temperature in tura, city id 1254046, is 71.82\n",
      "The temperature in tiksi, city id 2015306, is 4.1\n",
      "The temperature in wucheng, city id 1791347, is 61.25\n",
      "The temperature in lavrentiya, city id 4031637, is 23.88\n",
      "The temperature in khatanga, city id 2022572, is 1.99\n",
      "The temperature in puerto leguizamo, city id 3671437, is 73.85\n",
      "The temperature in georgetown, city id 1735106, is 80.37\n",
      "The temperature in salalah, city id 286621, is 74.12\n",
      "The temperature in constitucion, city id 3893726, is 49.17\n",
      "The temperature in tabou, city id 2281120, is 76.35\n",
      "City not found\n",
      "The temperature in le port, city id 935616, is 71.58\n",
      "The temperature in chokurdakh, city id 2126123, is -10.97\n",
      "The temperature in lagoa, city id 3372964, is 67.55\n",
      "The temperature in port augusta, city id 2063056, is 70.7\n",
      "City not found\n",
      "City not found\n",
      "City not found\n",
      "The temperature in punta arenas, city id 3874787, is 39.31\n",
      "The temperature in bogo, city id 1724435, is 80.13\n",
      "The temperature in pimentel, city id 3693584, is 64.33\n",
      "The temperature in angoche, city id 1052944, is 70.81\n",
      "The temperature in rikitea, city id 4030556, is 74.07\n",
      "City not found\n",
      "The temperature in bethel, city id 5282297, is 56.71\n",
      "The temperature in upernavik, city id 3418910, is 21.15\n",
      "The temperature in beringovskiy, city id 2126710, is 17.4\n",
      "The temperature in ambilobe, city id 1082243, is 71.56\n",
      "The temperature in thompson, city id 6165406, is 30.36\n",
      "The temperature in butaritari, city id 2110227, is 82.27\n",
      "The temperature in biltine, city id 244878, is 82.06\n",
      "The temperature in haapiti, city id 4034438, is 72.72\n",
      "The temperature in ahipara, city id 2194098, is 60.71\n",
      "City not found\n",
      "The temperature in atuona, city id 4020109, is 77.88\n",
      "The temperature in darnah, city id 87205, is 67.12\n",
      "The temperature in sinnamary, city id 3380290, is 78.04\n",
      "The temperature in vaini, city id 4032243, is 77.16\n",
      "The temperature in plettenberg bay, city id 964712, is 60.64\n",
      "The temperature in guerrero negro, city id 4021858, is 66.99\n",
      "The temperature in lorengau, city id 2092164, is 86.02\n",
      "The temperature in college, city id 5859699, is 40.77\n",
      "The temperature in cidreira, city id 3466165, is 64.96\n",
      "The temperature in itarema, city id 3393692, is 79.57\n",
      "The temperature in inhambane, city id 1045114, is 71.38\n",
      "The temperature in fiche, city id 337771, is 44.31\n",
      "The temperature in daru, city id 2098329, is 85.06\n",
      "The temperature in tuatapere, city id 2180815, is 66.18\n",
      "The temperature in sibolga, city id 1213855, is 83.82\n",
      "The temperature in taoudenni, city id 2450173, is 77.29\n",
      "The temperature in avarua, city id 4035715, is 73.45\n",
      "City not found\n",
      "City not found\n",
      "The temperature in pevek, city id 2122090, is 12.9\n",
      "The temperature in rafai, city id 236524, is 67.73\n",
      "The temperature in bahia honda, city id 3567995, is 77.34\n",
      "The temperature in kodinsk, city id 1503037, is 40.33\n",
      "The temperature in calvinia, city id 3369174, is 47.05\n",
      "The temperature in vaitape, city id 4033077, is 78.33\n",
      "The temperature in athabasca, city id 5887916, is 44.92\n",
      "The temperature in esperance, city id 2071860, is 62.44\n",
      "The temperature in puerto ayora, city id 3652764, is 69.89\n",
      "The temperature in luderitz, city id 3355672, is 54.84\n",
      "The temperature in tazovskiy, city id 1489853, is 21.78\n",
      "The temperature in ponta do sol, city id 2264557, is 68.36\n",
      "The temperature in omsukchan, city id 2122493, is 5.02\n",
      "The temperature in zaraza, city id 3625066, is 73.92\n",
      "The temperature in sao joao da barra, city id 3448903, is 69.15\n",
      "The temperature in diu, city id 1272502, is 74.46\n",
      "The temperature in nacala, city id 1035025, is 68.41\n",
      "The temperature in comodoro rivadavia, city id 3860443, is 57.06\n",
      "The temperature in te anau, city id 2181625, is 63.75\n",
      "The temperature in rypin, city id 3086511, is 45.01\n",
      "The temperature in vanavara, city id 2013727, is 38.95\n",
      "The temperature in koygorodok, city id 543396, is 40.33\n",
      "The temperature in ocos, city id 3592086, is 79.47\n",
      "The temperature in trecate, city id 6537305, is 50.07\n",
      "The temperature in lata, city id 2738381, is 51.04\n",
      "The temperature in mathathane, city id 933383, is 77.54\n",
      "City not found\n",
      "The temperature in fairbanks, city id 5861897, is 42.13\n",
      "The temperature in hithadhoo, city id 1282256, is 82.18\n",
      "The temperature in soubre, city id 2598243, is 71.76\n",
      "The temperature in san andres, city id 3670218, is 82.42\n",
      "The temperature in khovu-aksy, city id 1503527, is 33.66\n",
      "The temperature in ilulissat, city id 3423146, is 5.27\n",
      "The temperature in ketchikan, city id 5554428, is 46.87\n",
      "The temperature in vila velha, city id 3445026, is 69.75\n",
      "The temperature in galle, city id 1246294, is 81.39\n",
      "The temperature in umea, city id 602150, is 30.13\n",
      "The temperature in hasaki, city id 2112802, is 60.35\n",
      "The temperature in leningradskiy, city id 2123814, is 4.73\n",
      "The temperature in riga, city id 456173, is 37.44\n",
      "The temperature in asfi, city id 2537881, is 61.63\n",
      "City not found\n",
      "The temperature in bose, city id 6457397, is 47.91\n",
      "The temperature in piacabucu, city id 3454005, is 77.5\n",
      "The temperature in coihaique, city id 3894426, is 48.15\n",
      "The temperature in bambous virieux, city id 1106677, is 71.85\n",
      "City not found\n",
      "City not found\n",
      "The temperature in atambua, city id 1651103, is 88.18\n",
      "The temperature in pangnirtung, city id 6096551, is 28.4\n",
      "The temperature in longyearbyen, city id 2729907, is 14.27\n",
      "The temperature in sagarejo, city id 612230, is 39.63\n"
     ]
    },
    {
     "name": "stdout",
     "output_type": "stream",
     "text": [
      "The temperature in ceres, city id 5335650, is 61.12\n",
      "The temperature in tudela, city id 3107418, is 49.1\n",
      "The temperature in kavieng, city id 2094342, is 84.97\n",
      "The temperature in ilabaya, city id 3938455, is 63.16\n",
      "The temperature in cayenne, city id 3382160, is 78.1\n",
      "The temperature in saldanha, city id 3361934, is 58.46\n",
      "City not found\n",
      "City not found\n",
      "The temperature in koroni, city id 259265, is 56.91\n",
      "The temperature in tuktoyaktuk, city id 6170031, is 33.8\n",
      "The temperature in kaabong, city id 233093, is 68.22\n",
      "The temperature in abu zabad, city id 380348, is 81.79\n",
      "The temperature in port-gentil, city id 2396518, is 78.13\n",
      "The temperature in pacific grove, city id 5380437, is 57.63\n",
      "The temperature in tasiilaq, city id 3424607, is 28.31\n",
      "The temperature in katsuura, city id 2112309, is 62.4\n",
      "The temperature in vestmannaeyjar, city id 3412093, is 48.76\n",
      "The temperature in shangzhi, city id 2035002, is 47.48\n",
      "City not found\n",
      "The temperature in nome, city id 5870133, is 39.27\n",
      "The temperature in fortuna, city id 5563839, is 56.64\n",
      "The temperature in waipawa, city id 2206874, is 56.75\n",
      "The temperature in moskovskiy, city id 857690, is 41.86\n",
      "The temperature in ostrovnoy, city id 556268, is 34.09\n",
      "The temperature in barrow, city id 5880054, is 30.22\n",
      "The temperature in severobaykalsk, city id 2016910, is 36.82\n",
      "The temperature in riyadh, city id 108410, is 69.94\n",
      "The temperature in hamilton, city id 4513583, is 51.91\n",
      "The temperature in krasnyy chikoy, city id 2012349, is 39.99\n",
      "The temperature in kodiak, city id 5866583, is 41.18\n",
      "The temperature in talnakh, city id 1490256, is 25.7\n",
      "The temperature in roseburg, city id 5749352, is 54.0\n",
      "City not found\n",
      "The temperature in kyra, city id 2021041, is 39.87\n",
      "The temperature in coahuayana, city id 4013679, is 80.08\n",
      "The temperature in ballina, city id 2177069, is 80.65\n",
      "The temperature in dubrovka, city id 564487, is 37.38\n",
      "The temperature in faanui, city id 4034551, is 78.33\n",
      "The temperature in kahului, city id 5847411, is 80.6\n",
      "The temperature in amahai, city id 1651591, is 84.38\n",
      "City not found\n",
      "The temperature in kruisfontein, city id 986717, is 63.88\n",
      "The temperature in salinas, city id 5391295, is 58.41\n",
      "The temperature in takoradi, city id 2294915, is 77.09\n",
      "The temperature in rundu, city id 3353383, is 74.98\n",
      "The temperature in kitami, city id 2129537, is 45.05\n",
      "The temperature in iqaluit, city id 5983720, is 25.7\n",
      "The temperature in nabire, city id 1634614, is 77.81\n",
      "The temperature in pisco, city id 3932145, is 60.85\n",
      "The temperature in braco do norte, city id 3469115, is 60.53\n",
      "The temperature in qaanaaq, city id 3831208, is -0.85\n",
      "The temperature in ponta delgada, city id 3372783, is 70.52\n",
      "The temperature in clyde river, city id 5924351, is 21.63\n",
      "The temperature in la asuncion, city id 3480908, is 80.33\n",
      "The temperature in dongsheng, city id 1812256, is 43.41\n",
      "The temperature in aquin, city id 3731095, is 79.36\n",
      "City not found\n",
      "The temperature in khandyga, city id 2022773, is 17.47\n",
      "City not found\n",
      "The temperature in peravurani, city id 1259890, is 82.67\n",
      "The temperature in rio tuba, city id 1691703, is 81.86\n",
      "The temperature in shelburne, city id 6145890, is 37.76\n",
      "The temperature in mehamn, city id 778707, is 32.86\n",
      "The temperature in sembakung, city id 1627877, is 78.73\n",
      "The temperature in kuruman, city id 986134, is 57.58\n",
      "The temperature in hambantota, city id 1244926, is 75.54\n",
      "The temperature in rocha, city id 3440777, is 58.87\n",
      "The temperature in lanxi, city id 1804442, is 60.82\n",
      "The temperature in airai, city id 1651810, is 79.79\n",
      "The temperature in jiazi, city id 1805935, is 66.67\n",
      "The temperature in buraydah, city id 107304, is 70.25\n",
      "The temperature in ossora, city id 2122389, is 25.79\n",
      "The temperature in wasilla, city id 5877641, is 38.32\n",
      "The temperature in elizabeth city, city id 4465088, is 65.05\n",
      "The temperature in kahama, city id 158597, is 69.35\n",
      "The temperature in isangel, city id 2136825, is 79.2\n",
      "The temperature in ivanovka, city id 1528252, is 32.43\n",
      "The temperature in east london, city id 1006984, is 62.4\n",
      "The temperature in walvis bay, city id 3359638, is 50.95\n",
      "The temperature in chuy, city id 3443061, is 57.79\n",
      "The temperature in victoria, city id 1819729, is 66.94\n",
      "The temperature in mitsamiouli, city id 921786, is 76.53\n",
      "The temperature in qeshm, city id 119374, is 75.07\n",
      "The temperature in itaituba, city id 3397967, is 74.61\n",
      "The temperature in portland, city id 5746545, is 53.1\n",
      "The temperature in souillac, city id 933995, is 71.98\n",
      "The temperature in medea, city id 2488835, is 50.45\n",
      "The temperature in vardo, city id 777019, is 35.06\n",
      "The temperature in yulara, city id 6355222, is 78.64\n",
      "The temperature in selizharovo, city id 497661, is 41.4\n",
      "The temperature in tonantins, city id 3661894, is 77.22\n",
      "The temperature in iralaya, city id 3608828, is 80.17\n",
      "The temperature in kushmurun, city id 1519924, is 44.1\n",
      "The temperature in meulaboh, city id 1214488, is 78.8\n",
      "City not found\n",
      "The temperature in muros, city id 3115824, is 47.89\n",
      "The temperature in aksaray, city id 324496, is 33.39\n",
      "The temperature in togur, city id 1489499, is 34.66\n",
      "The temperature in yenagoa, city id 2318123, is 73.85\n",
      "The temperature in manggar, city id 1636426, is 84.0\n",
      "The temperature in totolapan, city id 3515200, is 79.93\n",
      "The temperature in xingyi, city id 1787599, is 48.54\n",
      "The temperature in torbay, city id 6167817, is 51.39\n",
      "The temperature in port maria, city id 3488985, is 75.29\n",
      "The temperature in ridgecrest, city id 5387494, is 69.35\n",
      "The temperature in bengkulu, city id 1649150, is 81.66\n",
      "The temperature in srednekolymsk, city id 2121025, is -1.53\n",
      "The temperature in carnarvon, city id 2074865, is 80.67\n",
      "The temperature in beyneu, city id 610298, is 48.52\n",
      "The temperature in boddam, city id 2655288, is 34.11\n",
      "The temperature in sidi ali, city id 2487130, is 61.93\n",
      "The temperature in hosdurga, city id 1269943, is 73.13\n",
      "The temperature in baixa grande, city id 3471094, is 71.8\n",
      "The temperature in berdigestyakh, city id 2026861, is 34.29\n",
      "The temperature in sao filipe, city id 3374210, is 80.47\n",
      "The temperature in george town, city id 1735106, is 80.37\n",
      "The temperature in narsaq, city id 3421719, is 36.55\n",
      "The temperature in berlevag, city id 780687, is 33.78\n",
      "The temperature in ibra, city id 287832, is 73.35\n",
      "The temperature in santiago de cao, city id 3692073, is 60.93\n",
      "The temperature in marsh harbour, city id 3571913, is 80.64\n",
      "The temperature in evensk, city id 2125693, is 12.61\n",
      "The temperature in geraldton, city id 2070998, is 75.61\n",
      "The temperature in mkushi, city id 906221, is 67.55\n",
      "The temperature in halifax, city id 6324729, is 62.31\n",
      "The temperature in phan thiet, city id 1571058, is 83.35\n",
      "The temperature in grand gaube, city id 934479, is 73.38\n",
      "The temperature in cocobeach, city id 2401357, is 78.73\n",
      "The temperature in coolum beach, city id 2170581, is 80.37\n",
      "The temperature in zalantun, city id 2033225, is 49.03\n",
      "The temperature in chabahar, city id 1161724, is 77.59\n",
      "The temperature in ndele, city id 237379, is 72.61\n",
      "City not found\n",
      "The temperature in conakry, city id 2422465, is 80.67\n",
      "The temperature in tual, city id 1623197, is 83.62\n",
      "The temperature in fos-sur-mer, city id 3017651, is 49.21\n",
      "City not found\n",
      "The temperature in morondava, city id 1058381, is 68.67\n",
      "City not found\n",
      "The temperature in moranbah, city id 6533368, is 91.42\n",
      "The temperature in gat, city id 293842, is 65.66\n",
      "The temperature in san quintin, city id 3984997, is 63.99\n",
      "The temperature in madera, city id 5369578, is 61.74\n",
      "The temperature in aktash, city id 1511997, is 24.96\n",
      "The temperature in wenling, city id 1791464, is 63.91\n",
      "The temperature in san francisco, city id 5391959, is 57.7\n",
      "The temperature in el dorado, city id 5345659, is 47.39\n",
      "The temperature in bandarbeyla, city id 64814, is 76.5\n",
      "The temperature in abha, city id 110690, is 53.85\n",
      "The temperature in myitkyina, city id 1307741, is 73.02\n",
      "The temperature in virginia beach, city id 4791259, is 64.29\n",
      "The temperature in colotlan, city id 4013136, is 66.56\n",
      "The temperature in saint-pierre, city id 935214, is 71.26\n",
      "The temperature in likasi, city id 922741, is 64.45\n",
      "The temperature in poplar bluff, city id 4404233, is 52.99\n",
      "The temperature in belmonte, city id 3470137, is 77.5\n",
      "The temperature in yar-sale, city id 1486321, is 27.14\n",
      "The temperature in yurga, city id 1485724, is 35.69\n"
     ]
    },
    {
     "name": "stdout",
     "output_type": "stream",
     "text": [
      "The temperature in port elizabeth, city id 964420, is 57.49\n",
      "City not found\n",
      "The temperature in moba, city id 7341918, is 42.66\n",
      "The temperature in jining, city id 1805518, is 60.01\n",
      "The temperature in vestmanna, city id 2610343, is 43.72\n",
      "The temperature in buguda, city id 1275132, is 73.31\n",
      "The temperature in cascais, city id 2269594, is 60.1\n",
      "The temperature in atikokan, city id 5888001, is 33.62\n",
      "The temperature in troitsko-pechorsk, city id 481548, is 38.48\n",
      "The temperature in sola, city id 2134814, is 81.28\n",
      "City not found\n",
      "The temperature in peniche, city id 2264923, is 55.09\n",
      "The temperature in ino, city id 1861584, is 65.73\n",
      "City not found\n",
      "The temperature in port blair, city id 1259385, is 76.08\n",
      "The temperature in yate, city id 2633406, is 49.37\n",
      "The temperature in malinovskiy, city id 1539045, is 42.49\n",
      "The temperature in veraval, city id 1253237, is 77.97\n",
      "The temperature in klaksvik, city id 2618795, is 45.52\n",
      "The temperature in sorland, city id 3137469, is 40.84\n",
      "The temperature in severo-kurilsk, city id 2121385, is 42.04\n",
      "The temperature in mount isa, city id 2065594, is 89.37\n",
      "The temperature in tilichiki, city id 2120591, is 10.81\n",
      "The temperature in taunggyi, city id 1293960, is 65.88\n",
      "The temperature in klamath falls, city id 5735238, is 45.48\n",
      "The temperature in ulaangom, city id 1515029, is 37.53\n",
      "The temperature in tsiroanomandidy, city id 1054463, is 66.45\n",
      "The temperature in cervo, city id 3125287, is 44.19\n",
      "The temperature in trairi, city id 3386177, is 79.43\n",
      "The temperature in suntar, city id 2015913, is 37.26\n",
      "The temperature in montepuez, city id 1037125, is 66.7\n",
      "The temperature in bergen, city id 3161733, is 41.68\n",
      "The temperature in corrales, city id 5463237, is 64.04\n",
      "The temperature in saurimo, city id 145531, is 64.17\n",
      "The temperature in roma, city id 5134295, is 38.01\n",
      "The temperature in bloemfontein, city id 1018725, is 42.28\n",
      "The temperature in oistins, city id 3373652, is 82.49\n",
      "The temperature in shymkent, city id 1518980, is 36.19\n",
      "The temperature in mackay, city id 2159220, is 86.94\n",
      "The temperature in saint-joseph, city id 6690296, is 70.2\n",
      "The temperature in kiama, city id 2161515, is 78.03\n",
      "The temperature in kaniama, city id 214389, is 65.84\n",
      "The temperature in campos do jordao, city id 3467684, is 52.43\n",
      "The temperature in port lincoln, city id 2063036, is 60.28\n",
      "The temperature in asau, city id 686090, is 52.07\n",
      "The temperature in caravelas, city id 3466980, is 73.56\n",
      "City not found\n",
      "The temperature in bowen, city id 2174444, is 89.82\n",
      "The temperature in acapulco, city id 3533462, is 76.33\n",
      "The temperature in hofn, city id 2630299, is 46.98\n",
      "The temperature in muroto, city id 1856392, is 66.24\n",
      "The temperature in segou, city id 2451478, is 82.42\n",
      "City not found\n",
      "City not found\n",
      "The temperature in samarai, city id 2132606, is 81.95\n",
      "The temperature in nicoya, city id 3622716, is 74.75\n",
      "The temperature in leshukonskoye, city id 535839, is 27.55\n",
      "The temperature in rio gallegos, city id 3838859, is 41.05\n",
      "The temperature in neiafu, city id 4032420, is 79.48\n",
      "The temperature in otrado-kubanskoye, city id 513878, is 50.04\n",
      "The temperature in nanortalik, city id 3421765, is 38.77\n",
      "City not found\n",
      "The temperature in moindou, city id 2140466, is 82.35\n",
      "The temperature in rudbar, city id 1128239, is 48.94\n",
      "The temperature in emerald, city id 2167426, is 91.54\n",
      "The temperature in damietta, city id 358048, is 73.29\n",
      "The temperature in santa rosa, city id 1687894, is 85.93\n",
      "The temperature in vadakku valliyur, city id 1253605, is 78.22\n",
      "The temperature in uptar, city id 2120129, is 17.83\n",
      "The temperature in dalnerechensk, city id 2025159, is 48.88\n",
      "The temperature in kontagora, city id 2334008, is 73.18\n",
      "The temperature in nizwa, city id 286987, is 73.9\n",
      "The temperature in aleksandrovskiy zavod, city id 2027933, is 37.17\n",
      "The temperature in milkovo, city id 2123278, is 37.4\n",
      "City not found\n",
      "The temperature in praia da vitoria, city id 3372760, is 66.45\n",
      "The temperature in aswan, city id 359792, is 69.1\n",
      "The temperature in codrington, city id 2171099, is 56.79\n",
      "The temperature in sringeri, city id 1255633, is 70.7\n",
      "The temperature in grindavik, city id 3416888, is 46.87\n",
      "City not found\n",
      "The temperature in la sarre, city id 6050194, is 32.61\n",
      "The temperature in teya, city id 1489656, is 32.77\n",
      "The temperature in shenjiamen, city id 1795632, is 66.42\n",
      "The temperature in provideniya, city id 4031574, is 27.52\n",
      "The temperature in kencong, city id 1640354, is 84.34\n",
      "The temperature in cherskiy, city id 2126199, is 1.11\n",
      "The temperature in necochea, city id 3430443, is 52.03\n",
      "The temperature in talaya, city id 2120769, is 5.54\n",
      "The temperature in kalmunai, city id 1242110, is 80.47\n",
      "The temperature in talara, city id 3691582, is 65.95\n",
      "The temperature in aklavik, city id 5882953, is 32.83\n",
      "City not found\n",
      "The temperature in naze, city id 1855540, is 70.72\n",
      "The temperature in kilinochchi, city id 1240372, is 80.01\n",
      "The temperature in oneonta, city id 5129852, is 39.99\n",
      "The temperature in brae, city id 2654970, is 44.51\n",
      "The temperature in lagoa santa, city id 3459138, is 69.08\n",
      "The temperature in eureka, city id 5563397, is 56.55\n",
      "The temperature in rio verde de mato grosso, city id 3451051, is 82.22\n",
      "The temperature in iraquara, city id 3461023, is 68.7\n",
      "City not found\n",
      "The temperature in san jose, city id 5392171, is 58.91\n",
      "City not found\n",
      "The temperature in tyrma, city id 2014694, is 43.86\n",
      "City not found\n",
      "City not found\n",
      "City not found\n",
      "The temperature in pishin, city id 1167821, is 46.89\n",
      "The temperature in san ramon de la nueva oran, city id 3836620, is 79.43\n",
      "The temperature in raudeberg, city id 3146487, is 42.87\n",
      "The temperature in longkou, city id 1802550, is 56.35\n",
      "The temperature in tessalit, city id 2449893, is 79.12\n",
      "City not found\n",
      "The temperature in udachnyy, city id 2014624, is 13.96\n",
      "The temperature in ust-omchug, city id 2120047, is 10.0\n",
      "The temperature in hit, city id 95788, is 69.69\n",
      "The temperature in namibe, city id 3347019, is 64.51\n",
      "The temperature in shirgaon, city id 1256486, is 75.87\n",
      "The temperature in butterworth, city id 1735076, is 80.46\n",
      "The temperature in hualmay, city id 3939761, is 62.69\n",
      "The temperature in anadyr, city id 2127202, is 12.7\n",
      "The temperature in ust-tsilma, city id 477940, is 29.55\n",
      "The temperature in kamalapuram, city id 1268277, is 80.82\n",
      "The temperature in miramar, city id 4164601, is 76.21\n",
      "The temperature in atyrau, city id 610529, is 53.62\n",
      "The temperature in korla, city id 1529376, is 56.3\n",
      "The temperature in orneta, city id 763066, is 42.91\n",
      "City not found\n",
      "The temperature in bontang, city id 1648186, is 81.66\n",
      "The temperature in katobu, city id 1640972, is 90.0\n",
      "The temperature in santa marta, city id 3668605, is 80.92\n",
      "The temperature in bandrele, city id 1090397, is 71.35\n",
      "The temperature in eyl, city id 60019, is 76.37\n",
      "The temperature in norman wells, city id 6089245, is 42.84\n",
      "The temperature in englehart, city id 5948844, is 36.16\n",
      "The temperature in nioro, city id 2412408, is 75.33\n",
      "The temperature in half moon bay, city id 5354943, is 57.65\n",
      "The temperature in cabedelo, city id 3404558, is 79.47\n",
      "The temperature in bonavista, city id 5905393, is 48.2\n",
      "The temperature in xixiang, city id 1788206, is 57.43\n",
      "The temperature in beloha, city id 1067565, is 64.98\n",
      "The temperature in ouesso, city id 2255564, is 69.42\n",
      "City not found\n",
      "The temperature in galveston, city id 4692856, is 76.19\n",
      "The temperature in kapasan, city id 8070821, is 85.26\n",
      "The temperature in gigmoto, city id 1712961, is 78.17\n",
      "The temperature in olinda, city id 3393536, is 80.33\n",
      "The temperature in itamaraca, city id 3397963, is 80.65\n",
      "The temperature in cap malheureux, city id 934649, is 73.47\n",
      "The temperature in sint-truiden, city id 2786546, is 47.23\n",
      "The temperature in zyryanka, city id 2119283, is 0.0\n",
      "The temperature in oktyabrskiy, city id 515879, is 46.29\n",
      "The temperature in tigzirt, city id 2476660, is 65.71\n",
      "The temperature in kirakira, city id 2178753, is 86.22\n",
      "The temperature in asyut, city id 359783, is 64.58\n",
      "The temperature in la ronge, city id 6050066, is 34.05\n",
      "The temperature in kununurra, city id 2068110, is 94.98\n",
      "The temperature in larsnes, city id 3148133, is 43.45\n",
      "The temperature in praya, city id 3374333, is 77.54\n",
      "The temperature in safaga, city id 358620, is 71.55\n",
      "The temperature in muisne, city id 3653967, is 75.06\n"
     ]
    },
    {
     "name": "stdout",
     "output_type": "stream",
     "text": [
      "The temperature in marawi, city id 1701054, is 73.65\n",
      "The temperature in zurrieq, city id 2562250, is 71.11\n",
      "City not found\n",
      "The temperature in bisho, city id 1019330, is 58.96\n",
      "The temperature in dunafoldvar, city id 3053489, is 44.62\n",
      "The temperature in wang saphung, city id 1605102, is 73.42\n",
      "City not found\n",
      "The temperature in afikpo, city id 2352250, is 71.94\n",
      "The temperature in sisimiut, city id 3419842, is 21.07\n",
      "The temperature in lasa, city id 3175096, is 40.66\n",
      "The temperature in sojitra, city id 1255858, is 71.73\n",
      "City not found\n",
      "The temperature in semey, city id 1519422, is 37.62\n",
      "The temperature in san carlos de bariloche, city id 7647007, is 44.35\n",
      "The temperature in dingle, city id 1714733, is 82.92\n",
      "The temperature in bejar, city id 3128382, is 50.45\n",
      "The temperature in manta, city id 3654410, is 73.18\n",
      "The temperature in mukhen, city id 2019718, is 43.93\n",
      "The temperature in margate, city id 2643044, is 47.75\n",
      "The temperature in laguna, city id 5364271, is 61.11\n",
      "The temperature in dongli, city id 1812381, is 66.18\n",
      "The temperature in kavaratti, city id 1267390, is 81.82\n",
      "The temperature in aquiraz, city id 3407407, is 80.69\n",
      "The temperature in disna, city id 629055, is 40.68\n",
      "The temperature in sept-iles, city id 6144312, is 48.07\n",
      "The temperature in mayo, city id 4362001, is 57.52\n",
      "The temperature in tashtagol, city id 1490042, is 32.56\n",
      "The temperature in coquimbo, city id 3893629, is 55.13\n",
      "The temperature in suisun city, city id 5396987, is 58.69\n",
      "The temperature in jiangyou, city id 1885823, is 54.81\n",
      "The temperature in isilkul, city id 1505438, is 43.65\n",
      "The temperature in bukama, city id 217834, is 71.08\n",
      "The temperature in dvinskoy, city id 563990, is 38.86\n",
      "The temperature in itarantim, city id 3460622, is 69.96\n",
      "The temperature in christchurch, city id 2192362, is 57.79\n",
      "The temperature in passa quatro, city id 3454901, is 56.77\n",
      "The temperature in kismayo, city id 55671, is 77.49\n",
      "The temperature in cockburn town, city id 3576994, is 83.46\n",
      "The temperature in florida, city id 4155751, is 72.12\n",
      "The temperature in guadalajara, city id 4005539, is 67.42\n",
      "The temperature in ulladulla, city id 2145554, is 81.27\n",
      "The temperature in candolim, city id 1274989, is 78.8\n",
      "The temperature in slyudyanka, city id 2016422, is 43.41\n",
      "The temperature in sitka, city id 5557293, is 48.09\n",
      "The temperature in dolores, city id 3435038, is 55.44\n",
      "The temperature in saiha, city id 1257771, is 74.93\n",
      "The temperature in aksu, city id 1529660, is 50.88\n",
      "The temperature in plouzane, city id 2986626, is 41.9\n",
      "The temperature in puro, city id 1692364, is 78.17\n",
      "The temperature in lompoc, city id 5367788, is 60.93\n",
      "The temperature in nuuk, city id 3421319, is 27.88\n",
      "The temperature in egvekinot, city id 4031742, is 12.11\n",
      "The temperature in touros, city id 3386213, is 81.5\n",
      "The temperature in mao, city id 2514301, is 64.96\n",
      "The temperature in ambad, city id 1278871, is 70.34\n",
      "The temperature in alekseyevka, city id 582956, is 49.1\n",
      "The temperature in lalsk, city id 537094, is 40.78\n",
      "The temperature in tombouctou, city id 2449066, is 76.84\n",
      "City not found\n",
      "The temperature in vilhena, city id 3924679, is 70.14\n",
      "The temperature in resavica, city id 791516, is 52.77\n",
      "The temperature in strezhevoy, city id 1490796, is 33.78\n",
      "The temperature in tahoua, city id 2439376, is 87.94\n",
      "The temperature in smyrna, city id 4223379, is 58.03\n",
      "The temperature in slave lake, city id 6149374, is 46.38\n",
      "The temperature in odweyne, city id 53372, is 70.63\n",
      "The temperature in chara, city id 2025630, is 38.07\n",
      "The temperature in arlit, city id 2447513, is 84.45\n",
      "The temperature in tulum, city id 3515040, is 80.98\n",
      "The temperature in conde, city id 3385077, is 78.26\n",
      "The temperature in sulat, city id 1685418, is 77.36\n",
      "The temperature in westport, city id 4845585, is 58.95\n",
      "The temperature in valparai, city id 1253472, is 60.57\n",
      "The temperature in aasiaat, city id 3424901, is 16.41\n",
      "The temperature in divnogorsk, city id 1507379, is 39.69\n",
      "The temperature in olafsvik, city id 3414079, is 45.34\n",
      "The temperature in buala, city id 2109528, is 86.07\n",
      "The temperature in henties bay, city id 3356832, is 57.85\n",
      "The temperature in palmerston, city id 6301965, is 93.04\n",
      "The temperature in dharmadam, city id 1272856, is 77.7\n",
      "The temperature in humaita, city id 3664078, is 78.73\n",
      "The temperature in along, city id 1278969, is 68.9\n",
      "The temperature in camacha, city id 2270385, is 65.61\n",
      "The temperature in yarmouth, city id 4956335, is 60.48\n",
      "The temperature in batticaloa, city id 1250161, is 79.93\n",
      "The temperature in kaeo, city id 2189343, is 60.33\n",
      "The temperature in havre-saint-pierre, city id 5972291, is 46.94\n",
      "The temperature in richards bay, city id 962367, is 66.81\n",
      "The temperature in anderson, city id 4569313, is 59.74\n",
      "The temperature in calafell, city id 3127066, is 59.0\n",
      "The temperature in impfondo, city id 2259655, is 71.11\n",
      "City not found\n",
      "The temperature in lerwick, city id 2644605, is 44.6\n",
      "The temperature in pedernales, city id 3495137, is 80.46\n",
      "The temperature in adrar, city id 2381972, is 72.23\n",
      "The temperature in ampanihy, city id 1078553, is 64.04\n",
      "The temperature in fethiye, city id 314967, is 51.67\n",
      "The temperature in ayan, city id 2027316, is 41.72\n",
      "The temperature in zverinogolovskoye, city id 1484943, is 45.7\n",
      "The temperature in huttwil, city id 2660281, is 34.59\n",
      "The temperature in port hardy, city id 6111862, is 48.38\n",
      "The temperature in birao, city id 240210, is 74.93\n",
      "The temperature in tiarei, city id 4033356, is 73.42\n",
      "The temperature in chapais, city id 5919850, is 29.98\n",
      "The temperature in erzin, city id 296852, is 54.12\n",
      "The temperature in trelew, city id 3833883, is 56.48\n",
      "City not found\n",
      "The temperature in mbini, city id 2308278, is 75.36\n",
      "The temperature in ukiah, city id 5404476, is 53.91\n",
      "The temperature in whyalla, city id 2058430, is 62.49\n",
      "The temperature in yelizovo, city id 2119538, is 39.34\n",
      "The temperature in parkes, city id 2153778, is 87.35\n",
      "The temperature in chapleau, city id 5919915, is 35.69\n",
      "The temperature in xining, city id 1788852, is 44.2\n",
      "The temperature in auch, city id 3036281, is 51.75\n",
      "The temperature in changzhou, city id 1815456, is 64.96\n",
      "The temperature in mareeba, city id 2158767, is 88.63\n",
      "The temperature in the valley, city id 3573374, is 82.26\n",
      "The temperature in carutapera, city id 3402648, is 77.02\n",
      "The temperature in iisalmi, city id 656820, is 33.82\n",
      "The temperature in cartagena, city id 3687238, is 83.82\n",
      "The temperature in kutum, city id 371745, is 73.62\n",
      "The temperature in cururupu, city id 3401148, is 75.79\n",
      "The temperature in auki, city id 2109701, is 87.66\n",
      "The temperature in shimoda, city id 1852357, is 63.1\n",
      "The temperature in launceston, city id 2160517, is 55.92\n",
      "The temperature in zhigalovo, city id 2012532, is 38.1\n",
      "The temperature in catuday, city id 1717787, is 82.04\n",
      "The temperature in gryfino, city id 3098200, is 43.77\n",
      "The temperature in sukumo, city id 1851462, is 65.44\n",
      "The temperature in jaciara, city id 3460355, is 75.06\n",
      "The temperature in consolacion del sur, city id 3563559, is 73.67\n",
      "The temperature in chilca, city id 3943957, is 62.98\n",
      "The temperature in rincon, city id 4218882, is 66.83\n",
      "The temperature in huilong, city id 1806840, is 63.99\n",
      "The temperature in burnie, city id 2173125, is 57.94\n",
      "The temperature in vilyuysk, city id 2013392, is 33.01\n",
      "The temperature in dunedin, city id 2191562, is 58.8\n",
      "The temperature in flin flon, city id 5954718, is 34.16\n",
      "The temperature in edd, city id 338345, is 84.04\n",
      "The temperature in sungaipenuh, city id 1625929, is 75.25\n",
      "The temperature in calama, city id 3897347, is 51.19\n",
      "City not found\n",
      "The temperature in batagay, city id 2027044, is 11.44\n",
      "The temperature in okhotsk, city id 2122605, is 23.18\n",
      "The temperature in belaya gora, city id 2126785, is -4.67\n",
      "The temperature in dakoro, city id 2446267, is 87.21\n",
      "The temperature in griffith, city id 4920986, is 48.76\n",
      "The temperature in bubaque, city id 2374583, is 82.76\n",
      "The temperature in luanda, city id 2240449, is 75.42\n",
      "The temperature in bonthe, city id 2409914, is 77.07\n",
      "The temperature in khuzhir, city id 2022143, is 40.86\n",
      "City not found\n",
      "The temperature in raichur, city id 1259012, is 74.43\n",
      "The temperature in port macquarie, city id 2152659, is 82.89\n",
      "The temperature in likhoslavl, city id 535261, is 39.6\n",
      "The temperature in vikhorevka, city id 2013399, is 33.39\n"
     ]
    },
    {
     "name": "stdout",
     "output_type": "stream",
     "text": [
      "The temperature in burgeo, city id 5911440, is 54.03\n",
      "The temperature in saint-augustin, city id 6137462, is 43.39\n",
      "The temperature in yatou, city id 1786855, is 57.88\n",
      "City not found\n",
      "The temperature in shieli, city id 1524801, is 43.03\n",
      "The temperature in buxar, city id 1275019, is 71.47\n",
      "The temperature in kiruna, city id 605155, is 16.72\n",
      "The temperature in izumo, city id 1861084, is 60.69\n",
      "The temperature in lae, city id 2092740, is 86.67\n"
     ]
    }
   ],
   "source": [
    "# Loop through the list of cities and perform a request for data on each\n",
    "for city in cities:\n",
    "    \n",
    "    query_url = f\"{url}&units={units}&appid={weather_api_key}&q=\"\n",
    "    response = requests.get(query_url + city).json()\n",
    "    \n",
    "    try:\n",
    "        # These will go into the df.\n",
    "        final_city.append(response[\"name\"])\n",
    "        temp.append(float(response[\"main\"][\"temp\"]))\n",
    "        humidity.append(float(response[\"main\"][\"humidity\"]))\n",
    "        clouds.append(float(response[\"clouds\"][\"all\"]))\n",
    "        wind.append(float(response[\"wind\"][\"speed\"]))\n",
    "        lat.append(float(response[\"coord\"][\"lat\"]))\n",
    "        lon.append(float(response[\"coord\"][\"lon\"]))\n",
    "        \n",
    "        # This will go in the print statement\n",
    "        identifier.append(response[\"id\"])\n",
    "        print(f\"The temperature in {city}, city id {identifier[i]}, is {temp[i]}\")\n",
    "        i = i + 1\n",
    "\n",
    "    except:\n",
    "        # Append null values\n",
    "        print(\"City not found\")\n",
    "        pass"
   ]
  },
  {
   "cell_type": "code",
   "execution_count": 6,
   "metadata": {},
   "outputs": [
    {
     "data": {
      "text/html": [
       "<div>\n",
       "<style scoped>\n",
       "    .dataframe tbody tr th:only-of-type {\n",
       "        vertical-align: middle;\n",
       "    }\n",
       "\n",
       "    .dataframe tbody tr th {\n",
       "        vertical-align: top;\n",
       "    }\n",
       "\n",
       "    .dataframe thead th {\n",
       "        text-align: right;\n",
       "    }\n",
       "</style>\n",
       "<table border=\"1\" class=\"dataframe\">\n",
       "  <thead>\n",
       "    <tr style=\"text-align: right;\">\n",
       "      <th></th>\n",
       "      <th>City</th>\n",
       "      <th>Temp_F</th>\n",
       "      <th>Humidity_%</th>\n",
       "      <th>Cloudiness_%</th>\n",
       "      <th>Wind_Speed_mph</th>\n",
       "      <th>Lat</th>\n",
       "      <th>Lon</th>\n",
       "    </tr>\n",
       "  </thead>\n",
       "  <tbody>\n",
       "    <tr>\n",
       "      <th>0</th>\n",
       "      <td>Broken Hill</td>\n",
       "      <td>67.71</td>\n",
       "      <td>42.0</td>\n",
       "      <td>40.0</td>\n",
       "      <td>17.27</td>\n",
       "      <td>-31.9500</td>\n",
       "      <td>141.4333</td>\n",
       "    </tr>\n",
       "    <tr>\n",
       "      <th>1</th>\n",
       "      <td>Kaitangata</td>\n",
       "      <td>60.67</td>\n",
       "      <td>61.0</td>\n",
       "      <td>99.0</td>\n",
       "      <td>6.40</td>\n",
       "      <td>-46.2817</td>\n",
       "      <td>169.8464</td>\n",
       "    </tr>\n",
       "    <tr>\n",
       "      <th>2</th>\n",
       "      <td>Hermanus</td>\n",
       "      <td>59.81</td>\n",
       "      <td>88.0</td>\n",
       "      <td>100.0</td>\n",
       "      <td>23.55</td>\n",
       "      <td>-34.4187</td>\n",
       "      <td>19.2345</td>\n",
       "    </tr>\n",
       "    <tr>\n",
       "      <th>3</th>\n",
       "      <td>Saskylakh</td>\n",
       "      <td>-13.47</td>\n",
       "      <td>100.0</td>\n",
       "      <td>87.0</td>\n",
       "      <td>3.06</td>\n",
       "      <td>71.9167</td>\n",
       "      <td>114.0833</td>\n",
       "    </tr>\n",
       "    <tr>\n",
       "      <th>4</th>\n",
       "      <td>Jamestown</td>\n",
       "      <td>43.54</td>\n",
       "      <td>88.0</td>\n",
       "      <td>90.0</td>\n",
       "      <td>1.01</td>\n",
       "      <td>42.0970</td>\n",
       "      <td>-79.2353</td>\n",
       "    </tr>\n",
       "    <tr>\n",
       "      <th>5</th>\n",
       "      <td>Farafangana</td>\n",
       "      <td>70.43</td>\n",
       "      <td>78.0</td>\n",
       "      <td>100.0</td>\n",
       "      <td>2.39</td>\n",
       "      <td>-22.8167</td>\n",
       "      <td>47.8333</td>\n",
       "    </tr>\n",
       "    <tr>\n",
       "      <th>6</th>\n",
       "      <td>Tarauacá</td>\n",
       "      <td>77.02</td>\n",
       "      <td>82.0</td>\n",
       "      <td>100.0</td>\n",
       "      <td>2.35</td>\n",
       "      <td>-8.1614</td>\n",
       "      <td>-70.7656</td>\n",
       "    </tr>\n",
       "    <tr>\n",
       "      <th>7</th>\n",
       "      <td>Los Llanos de Aridane</td>\n",
       "      <td>65.12</td>\n",
       "      <td>80.0</td>\n",
       "      <td>20.0</td>\n",
       "      <td>3.00</td>\n",
       "      <td>28.6585</td>\n",
       "      <td>-17.9182</td>\n",
       "    </tr>\n",
       "    <tr>\n",
       "      <th>8</th>\n",
       "      <td>Ushuaia</td>\n",
       "      <td>40.66</td>\n",
       "      <td>75.0</td>\n",
       "      <td>75.0</td>\n",
       "      <td>12.66</td>\n",
       "      <td>-54.8000</td>\n",
       "      <td>-68.3000</td>\n",
       "    </tr>\n",
       "    <tr>\n",
       "      <th>9</th>\n",
       "      <td>Nikolskoye</td>\n",
       "      <td>43.02</td>\n",
       "      <td>80.0</td>\n",
       "      <td>100.0</td>\n",
       "      <td>12.33</td>\n",
       "      <td>59.7035</td>\n",
       "      <td>30.7861</td>\n",
       "    </tr>\n",
       "  </tbody>\n",
       "</table>\n",
       "</div>"
      ],
      "text/plain": [
       "                    City  Temp_F  Humidity_%  Cloudiness_%  Wind_Speed_mph  \\\n",
       "0            Broken Hill   67.71        42.0          40.0           17.27   \n",
       "1             Kaitangata   60.67        61.0          99.0            6.40   \n",
       "2               Hermanus   59.81        88.0         100.0           23.55   \n",
       "3              Saskylakh  -13.47       100.0          87.0            3.06   \n",
       "4              Jamestown   43.54        88.0          90.0            1.01   \n",
       "5            Farafangana   70.43        78.0         100.0            2.39   \n",
       "6               Tarauacá   77.02        82.0         100.0            2.35   \n",
       "7  Los Llanos de Aridane   65.12        80.0          20.0            3.00   \n",
       "8                Ushuaia   40.66        75.0          75.0           12.66   \n",
       "9             Nikolskoye   43.02        80.0         100.0           12.33   \n",
       "\n",
       "       Lat       Lon  \n",
       "0 -31.9500  141.4333  \n",
       "1 -46.2817  169.8464  \n",
       "2 -34.4187   19.2345  \n",
       "3  71.9167  114.0833  \n",
       "4  42.0970  -79.2353  \n",
       "5 -22.8167   47.8333  \n",
       "6  -8.1614  -70.7656  \n",
       "7  28.6585  -17.9182  \n",
       "8 -54.8000  -68.3000  \n",
       "9  59.7035   30.7861  "
      ]
     },
     "execution_count": 6,
     "metadata": {},
     "output_type": "execute_result"
    }
   ],
   "source": [
    "# After several tries on the API, putting cities into a data frame\n",
    "\n",
    "cities_df = pd.DataFrame({\"City\": final_city, \"Temp_F\": temp, \"Humidity_%\": humidity, \"Cloudiness_%\": clouds, \n",
    "                          \"Wind_Speed_mph\": wind, \"Lat\": lat, \"Lon\": lon})\n",
    "\n",
    "# Save Data Frame\n",
    "cities_df.to_csv(\"Script Outputs/cities_df\", index = False)\n",
    "\n",
    "# Display header to confirm\n",
    "cities_df.head(10)"
   ]
  },
  {
   "cell_type": "markdown",
   "metadata": {},
   "source": [
    "## Inspect the data and remove the cities where the humidity > 100%.\n",
    "----\n",
    "Skip this step if there are no cities that have humidity > 100%. "
   ]
  },
  {
   "cell_type": "code",
   "execution_count": 7,
   "metadata": {
    "scrolled": true
   },
   "outputs": [
    {
     "data": {
      "text/plain": [
       "City               object\n",
       "Temp_F            float64\n",
       "Humidity_%        float64\n",
       "Cloudiness_%      float64\n",
       "Wind_Speed_mph    float64\n",
       "Lat               float64\n",
       "Lon               float64\n",
       "dtype: object"
      ]
     },
     "execution_count": 7,
     "metadata": {},
     "output_type": "execute_result"
    }
   ],
   "source": [
    "# Check data types for the data frame.\n",
    "cities_df.dtypes"
   ]
  },
  {
   "cell_type": "code",
   "execution_count": 8,
   "metadata": {},
   "outputs": [
    {
     "data": {
      "text/plain": [
       "City              593\n",
       "Temp_F            593\n",
       "Humidity_%        593\n",
       "Cloudiness_%      593\n",
       "Wind_Speed_mph    593\n",
       "Lat               593\n",
       "Lon               593\n",
       "dtype: int64"
      ]
     },
     "execution_count": 8,
     "metadata": {},
     "output_type": "execute_result"
    }
   ],
   "source": [
    "# Check Data\n",
    "cities_df.count()"
   ]
  },
  {
   "cell_type": "code",
   "execution_count": 9,
   "metadata": {
    "scrolled": false
   },
   "outputs": [
    {
     "data": {
      "text/html": [
       "<div>\n",
       "<style scoped>\n",
       "    .dataframe tbody tr th:only-of-type {\n",
       "        vertical-align: middle;\n",
       "    }\n",
       "\n",
       "    .dataframe tbody tr th {\n",
       "        vertical-align: top;\n",
       "    }\n",
       "\n",
       "    .dataframe thead th {\n",
       "        text-align: right;\n",
       "    }\n",
       "</style>\n",
       "<table border=\"1\" class=\"dataframe\">\n",
       "  <thead>\n",
       "    <tr style=\"text-align: right;\">\n",
       "      <th></th>\n",
       "      <th>City</th>\n",
       "      <th>Temp_F</th>\n",
       "      <th>Humidity_%</th>\n",
       "      <th>Cloudiness_%</th>\n",
       "      <th>Wind_Speed_mph</th>\n",
       "      <th>Lat</th>\n",
       "      <th>Lon</th>\n",
       "    </tr>\n",
       "  </thead>\n",
       "  <tbody>\n",
       "  </tbody>\n",
       "</table>\n",
       "</div>"
      ],
      "text/plain": [
       "Empty DataFrame\n",
       "Columns: [City, Temp_F, Humidity_%, Cloudiness_%, Wind_Speed_mph, Lat, Lon]\n",
       "Index: []"
      ]
     },
     "execution_count": 9,
     "metadata": {},
     "output_type": "execute_result"
    }
   ],
   "source": [
    "# Check to see if there are any values in the Humidity colum over 100%\n",
    "cities_df.loc[cities_df[\"Humidity_%\"] > 100]"
   ]
  },
  {
   "cell_type": "code",
   "execution_count": 10,
   "metadata": {},
   "outputs": [
    {
     "data": {
      "text/html": [
       "<div>\n",
       "<style scoped>\n",
       "    .dataframe tbody tr th:only-of-type {\n",
       "        vertical-align: middle;\n",
       "    }\n",
       "\n",
       "    .dataframe tbody tr th {\n",
       "        vertical-align: top;\n",
       "    }\n",
       "\n",
       "    .dataframe thead th {\n",
       "        text-align: right;\n",
       "    }\n",
       "</style>\n",
       "<table border=\"1\" class=\"dataframe\">\n",
       "  <thead>\n",
       "    <tr style=\"text-align: right;\">\n",
       "      <th></th>\n",
       "      <th>City</th>\n",
       "      <th>Temp_F</th>\n",
       "      <th>Humidity_%</th>\n",
       "      <th>Cloudiness_%</th>\n",
       "      <th>Wind_Speed_mph</th>\n",
       "      <th>Lat</th>\n",
       "      <th>Lon</th>\n",
       "    </tr>\n",
       "  </thead>\n",
       "  <tbody>\n",
       "    <tr>\n",
       "      <th>0</th>\n",
       "      <td>Broken Hill</td>\n",
       "      <td>67.71</td>\n",
       "      <td>42.0</td>\n",
       "      <td>40.0</td>\n",
       "      <td>17.27</td>\n",
       "      <td>-31.9500</td>\n",
       "      <td>141.4333</td>\n",
       "    </tr>\n",
       "    <tr>\n",
       "      <th>1</th>\n",
       "      <td>Kaitangata</td>\n",
       "      <td>60.67</td>\n",
       "      <td>61.0</td>\n",
       "      <td>99.0</td>\n",
       "      <td>6.40</td>\n",
       "      <td>-46.2817</td>\n",
       "      <td>169.8464</td>\n",
       "    </tr>\n",
       "    <tr>\n",
       "      <th>2</th>\n",
       "      <td>Hermanus</td>\n",
       "      <td>59.81</td>\n",
       "      <td>88.0</td>\n",
       "      <td>100.0</td>\n",
       "      <td>23.55</td>\n",
       "      <td>-34.4187</td>\n",
       "      <td>19.2345</td>\n",
       "    </tr>\n",
       "    <tr>\n",
       "      <th>3</th>\n",
       "      <td>Saskylakh</td>\n",
       "      <td>-13.47</td>\n",
       "      <td>100.0</td>\n",
       "      <td>87.0</td>\n",
       "      <td>3.06</td>\n",
       "      <td>71.9167</td>\n",
       "      <td>114.0833</td>\n",
       "    </tr>\n",
       "    <tr>\n",
       "      <th>4</th>\n",
       "      <td>Jamestown</td>\n",
       "      <td>43.54</td>\n",
       "      <td>88.0</td>\n",
       "      <td>90.0</td>\n",
       "      <td>1.01</td>\n",
       "      <td>42.0970</td>\n",
       "      <td>-79.2353</td>\n",
       "    </tr>\n",
       "    <tr>\n",
       "      <th>...</th>\n",
       "      <td>...</td>\n",
       "      <td>...</td>\n",
       "      <td>...</td>\n",
       "      <td>...</td>\n",
       "      <td>...</td>\n",
       "      <td>...</td>\n",
       "      <td>...</td>\n",
       "    </tr>\n",
       "    <tr>\n",
       "      <th>588</th>\n",
       "      <td>Shīeli</td>\n",
       "      <td>43.03</td>\n",
       "      <td>42.0</td>\n",
       "      <td>96.0</td>\n",
       "      <td>5.88</td>\n",
       "      <td>44.1667</td>\n",
       "      <td>66.7500</td>\n",
       "    </tr>\n",
       "    <tr>\n",
       "      <th>589</th>\n",
       "      <td>Buxar</td>\n",
       "      <td>71.47</td>\n",
       "      <td>70.0</td>\n",
       "      <td>0.0</td>\n",
       "      <td>4.00</td>\n",
       "      <td>25.5833</td>\n",
       "      <td>83.9833</td>\n",
       "    </tr>\n",
       "    <tr>\n",
       "      <th>590</th>\n",
       "      <td>Kiruna</td>\n",
       "      <td>16.72</td>\n",
       "      <td>93.0</td>\n",
       "      <td>90.0</td>\n",
       "      <td>0.00</td>\n",
       "      <td>67.8557</td>\n",
       "      <td>20.2251</td>\n",
       "    </tr>\n",
       "    <tr>\n",
       "      <th>591</th>\n",
       "      <td>Izumo</td>\n",
       "      <td>60.69</td>\n",
       "      <td>51.0</td>\n",
       "      <td>40.0</td>\n",
       "      <td>13.80</td>\n",
       "      <td>35.3667</td>\n",
       "      <td>132.7667</td>\n",
       "    </tr>\n",
       "    <tr>\n",
       "      <th>592</th>\n",
       "      <td>Lae</td>\n",
       "      <td>86.67</td>\n",
       "      <td>56.0</td>\n",
       "      <td>100.0</td>\n",
       "      <td>3.36</td>\n",
       "      <td>-6.7221</td>\n",
       "      <td>146.9847</td>\n",
       "    </tr>\n",
       "  </tbody>\n",
       "</table>\n",
       "<p>593 rows × 7 columns</p>\n",
       "</div>"
      ],
      "text/plain": [
       "            City  Temp_F  Humidity_%  Cloudiness_%  Wind_Speed_mph      Lat  \\\n",
       "0    Broken Hill   67.71        42.0          40.0           17.27 -31.9500   \n",
       "1     Kaitangata   60.67        61.0          99.0            6.40 -46.2817   \n",
       "2       Hermanus   59.81        88.0         100.0           23.55 -34.4187   \n",
       "3      Saskylakh  -13.47       100.0          87.0            3.06  71.9167   \n",
       "4      Jamestown   43.54        88.0          90.0            1.01  42.0970   \n",
       "..           ...     ...         ...           ...             ...      ...   \n",
       "588       Shīeli   43.03        42.0          96.0            5.88  44.1667   \n",
       "589        Buxar   71.47        70.0           0.0            4.00  25.5833   \n",
       "590       Kiruna   16.72        93.0          90.0            0.00  67.8557   \n",
       "591        Izumo   60.69        51.0          40.0           13.80  35.3667   \n",
       "592          Lae   86.67        56.0         100.0            3.36  -6.7221   \n",
       "\n",
       "          Lon  \n",
       "0    141.4333  \n",
       "1    169.8464  \n",
       "2     19.2345  \n",
       "3    114.0833  \n",
       "4    -79.2353  \n",
       "..        ...  \n",
       "588   66.7500  \n",
       "589   83.9833  \n",
       "590   20.2251  \n",
       "591  132.7667  \n",
       "592  146.9847  \n",
       "\n",
       "[593 rows x 7 columns]"
      ]
     },
     "execution_count": 10,
     "metadata": {},
     "output_type": "execute_result"
    }
   ],
   "source": [
    "# Removing data with Humidity >100 is not applicable. Checking the data frame.\n",
    "cities_df"
   ]
  },
  {
   "cell_type": "markdown",
   "metadata": {},
   "source": [
    "## Latitude vs. Temperature Plot"
   ]
  },
  {
   "cell_type": "code",
   "execution_count": 11,
   "metadata": {
    "scrolled": true
   },
   "outputs": [
    {
     "data": {
      "image/png": "[encoded data removed]",
      "text/plain": [
       "<Figure size 720x360 with 1 Axes>"
      ]
     },
     "metadata": {
      "needs_background": "light"
     },
     "output_type": "display_data"
    }
   ],
   "source": [
    "# Dependent Values for Scatter Plot\n",
    "plt.figure(figsize=(10,5))\n",
    "plt.scatter(cities_df[\"Lat\"], cities_df[\"Temp_F\"], marker=\"x\",edgecolors=\"red\")\n",
    "\n",
    "# Size, Labels, and Grid\n",
    "plt.title(\"City Latitude vs. Temperature Plot\")\n",
    "plt.ylabel(\"Temperature (ºF)\")\n",
    "plt.xlabel(\"Latitude\")\n",
    "plt.grid(True)\n",
    "\n",
    "# Save the Plot\n",
    "plt.savefig(\"Script Outputs/Lat_v_Temp.png\")\n",
    "\n",
    "# Show plot\n",
    "plt.show()"
   ]
  },
  {
   "cell_type": "markdown",
   "metadata": {},
   "source": [
    "##### The plot shows that the farther away from the equator (Latitude = 0), the max temp is colder (lower temperatures)."
   ]
  },
  {
   "cell_type": "markdown",
   "metadata": {},
   "source": [
    "## Latitude vs. Humidity Plot"
   ]
  },
  {
   "cell_type": "code",
   "execution_count": 12,
   "metadata": {
    "scrolled": true
   },
   "outputs": [
    {
     "data": {
      "image/png": "[encoded data removed]",
      "text/plain": [
       "<Figure size 720x360 with 1 Axes>"
      ]
     },
     "metadata": {
      "needs_background": "light"
     },
     "output_type": "display_data"
    }
   ],
   "source": [
    "# Dependent Values for Scatter Plot\n",
    "plt.figure(figsize=(10,5))\n",
    "plt.scatter(cities_df[\"Lat\"], cities_df[\"Humidity_%\"], marker=\"o\",edgecolors=\"black\")\n",
    "\n",
    "# Size, Labels, and Grid\n",
    "plt.title(\"City Latitude vs. Humidity % Plot\")\n",
    "plt.ylabel(\"Humdity\")\n",
    "plt.xlabel(\"Latitude\")\n",
    "plt.grid(True)\n",
    "\n",
    "# Save the Plot\n",
    "plt.savefig(\"Script Outputs/Lat_v_Humidity.png\")\n",
    "\n",
    "# Show plot\n",
    "plt.show()"
   ]
  },
  {
   "cell_type": "markdown",
   "metadata": {},
   "source": [
    "##### The percentage of humidity decreases on the northern latitudes between 20 and 40 before growing.  Similar trends can be seen on the southern latitudes."
   ]
  },
  {
   "cell_type": "markdown",
   "metadata": {},
   "source": [
    "## Latitude vs. Cloudiness Plot"
   ]
  },
  {
   "cell_type": "code",
   "execution_count": 13,
   "metadata": {
    "scrolled": true
   },
   "outputs": [
    {
     "data": {
      "image/png": "[encoded data removed]",
      "text/plain": [
       "<Figure size 720x360 with 1 Axes>"
      ]
     },
     "metadata": {
      "needs_background": "light"
     },
     "output_type": "display_data"
    }
   ],
   "source": [
    "# Dependent Values for Scatter Plot\n",
    "plt.figure(figsize=(10,5))\n",
    "plt.scatter(cities_df[\"Lat\"], cities_df[\"Cloudiness_%\"], marker=\"o\",edgecolors=\"blue\")\n",
    "\n",
    "# Size, Labels, and Grid\n",
    "plt.title(\"City Latitude vs. Cloudy % Plot\")\n",
    "plt.ylabel(\"Cloudiness %\")\n",
    "plt.xlabel(\"Latitude\")\n",
    "plt.grid(True)\n",
    "\n",
    "# Save the Plot\n",
    "plt.savefig(\"Script Outputs/Lat_v_Cloudiness.png\")\n",
    "\n",
    "# Show plot\n",
    "plt.show()"
   ]
  },
  {
   "cell_type": "markdown",
   "metadata": {},
   "source": [
    "##### The cloudiness is highest around the equator and in the northern latitudes.  Interestingly, the cloudiness drops are similar patterns to humidity percentage decreases."
   ]
  },
  {
   "cell_type": "markdown",
   "metadata": {},
   "source": [
    "## Latitude vs. Wind Speed Plot"
   ]
  },
  {
   "cell_type": "code",
   "execution_count": 14,
   "metadata": {
    "scrolled": true
   },
   "outputs": [
    {
     "data": {
      "image/png": "[encoded data removed]",
      "text/plain": [
       "<Figure size 720x360 with 1 Axes>"
      ]
     },
     "metadata": {
      "needs_background": "light"
     },
     "output_type": "display_data"
    }
   ],
   "source": [
    "# Dependent Values for Scatter Plot\n",
    "plt.figure(figsize=(10,5))\n",
    "plt.scatter(cities_df[\"Lat\"], cities_df[\"Wind_Speed_mph\"], marker=\"o\",edgecolors=\"blue\")\n",
    "\n",
    "# Size, Labels, and Grid\n",
    "plt.title(\"City Latitude vs Windspeed % Plot\")\n",
    "plt.ylabel(\"Windspeed %\")\n",
    "plt.xlabel(\"Latitude\")\n",
    "plt.grid(True)\n",
    "\n",
    "# Save the Plot\n",
    "plt.savefig(\"Script Outputs/Lat_v_Windspeed.png\")\n",
    "\n",
    "# Show plot\n",
    "plt.show()"
   ]
  },
  {
   "cell_type": "markdown",
   "metadata": {},
   "source": [
    "##### Wind speed seems to be consistent until you get to the farther northern and southern latitudes where the trend starts to increase."
   ]
  },
  {
   "cell_type": "markdown",
   "metadata": {},
   "source": [
    "## Linear Regression"
   ]
  },
  {
   "cell_type": "code",
   "execution_count": 15,
   "metadata": {},
   "outputs": [],
   "source": [
    "# Dependency\n",
    "from scipy.stats import linregress"
   ]
  },
  {
   "cell_type": "code",
   "execution_count": 16,
   "metadata": {
    "scrolled": true
   },
   "outputs": [
    {
     "data": {
      "text/html": [
       "<div>\n",
       "<style scoped>\n",
       "    .dataframe tbody tr th:only-of-type {\n",
       "        vertical-align: middle;\n",
       "    }\n",
       "\n",
       "    .dataframe tbody tr th {\n",
       "        vertical-align: top;\n",
       "    }\n",
       "\n",
       "    .dataframe thead th {\n",
       "        text-align: right;\n",
       "    }\n",
       "</style>\n",
       "<table border=\"1\" class=\"dataframe\">\n",
       "  <thead>\n",
       "    <tr style=\"text-align: right;\">\n",
       "      <th></th>\n",
       "      <th>City</th>\n",
       "      <th>Temp_F</th>\n",
       "      <th>Humidity_%</th>\n",
       "      <th>Cloudiness_%</th>\n",
       "      <th>Wind_Speed_mph</th>\n",
       "      <th>Lat</th>\n",
       "      <th>Lon</th>\n",
       "    </tr>\n",
       "  </thead>\n",
       "  <tbody>\n",
       "    <tr>\n",
       "      <th>0</th>\n",
       "      <td>Broken Hill</td>\n",
       "      <td>67.71</td>\n",
       "      <td>42.0</td>\n",
       "      <td>40.0</td>\n",
       "      <td>17.27</td>\n",
       "      <td>-31.9500</td>\n",
       "      <td>141.4333</td>\n",
       "    </tr>\n",
       "    <tr>\n",
       "      <th>1</th>\n",
       "      <td>Kaitangata</td>\n",
       "      <td>60.67</td>\n",
       "      <td>61.0</td>\n",
       "      <td>99.0</td>\n",
       "      <td>6.40</td>\n",
       "      <td>-46.2817</td>\n",
       "      <td>169.8464</td>\n",
       "    </tr>\n",
       "    <tr>\n",
       "      <th>2</th>\n",
       "      <td>Hermanus</td>\n",
       "      <td>59.81</td>\n",
       "      <td>88.0</td>\n",
       "      <td>100.0</td>\n",
       "      <td>23.55</td>\n",
       "      <td>-34.4187</td>\n",
       "      <td>19.2345</td>\n",
       "    </tr>\n",
       "    <tr>\n",
       "      <th>5</th>\n",
       "      <td>Farafangana</td>\n",
       "      <td>70.43</td>\n",
       "      <td>78.0</td>\n",
       "      <td>100.0</td>\n",
       "      <td>2.39</td>\n",
       "      <td>-22.8167</td>\n",
       "      <td>47.8333</td>\n",
       "    </tr>\n",
       "    <tr>\n",
       "      <th>6</th>\n",
       "      <td>Tarauacá</td>\n",
       "      <td>77.02</td>\n",
       "      <td>82.0</td>\n",
       "      <td>100.0</td>\n",
       "      <td>2.35</td>\n",
       "      <td>-8.1614</td>\n",
       "      <td>-70.7656</td>\n",
       "    </tr>\n",
       "  </tbody>\n",
       "</table>\n",
       "</div>"
      ],
      "text/plain": [
       "          City  Temp_F  Humidity_%  Cloudiness_%  Wind_Speed_mph      Lat  \\\n",
       "0  Broken Hill   67.71        42.0          40.0           17.27 -31.9500   \n",
       "1   Kaitangata   60.67        61.0          99.0            6.40 -46.2817   \n",
       "2     Hermanus   59.81        88.0         100.0           23.55 -34.4187   \n",
       "5  Farafangana   70.43        78.0         100.0            2.39 -22.8167   \n",
       "6     Tarauacá   77.02        82.0         100.0            2.35  -8.1614   \n",
       "\n",
       "        Lon  \n",
       "0  141.4333  \n",
       "1  169.8464  \n",
       "2   19.2345  \n",
       "5   47.8333  \n",
       "6  -70.7656  "
      ]
     },
     "execution_count": 16,
     "metadata": {},
     "output_type": "execute_result"
    }
   ],
   "source": [
    "# Data Frames for Hemispheres\n",
    "north_df = cities_df.Lat >= 0\n",
    "south_df = cities_df.Lat < 0\n",
    "northern_df = cities_df[north_df]\n",
    "southern_df = cities_df[south_df]\n",
    "\n",
    "# Save Data Frame\n",
    "northern_df.to_csv(\"Script Outputs/northern_df\", index = False)\n",
    "southern_df.to_csv(\"Script Outputs/southern_df\", index = False)\n",
    "\n",
    "# Check new Southern Data Frame\n",
    "southern_df.head()"
   ]
  },
  {
   "cell_type": "code",
   "execution_count": 17,
   "metadata": {},
   "outputs": [
    {
     "data": {
      "text/html": [
       "<div>\n",
       "<style scoped>\n",
       "    .dataframe tbody tr th:only-of-type {\n",
       "        vertical-align: middle;\n",
       "    }\n",
       "\n",
       "    .dataframe tbody tr th {\n",
       "        vertical-align: top;\n",
       "    }\n",
       "\n",
       "    .dataframe thead th {\n",
       "        text-align: right;\n",
       "    }\n",
       "</style>\n",
       "<table border=\"1\" class=\"dataframe\">\n",
       "  <thead>\n",
       "    <tr style=\"text-align: right;\">\n",
       "      <th></th>\n",
       "      <th>City</th>\n",
       "      <th>Temp_F</th>\n",
       "      <th>Humidity_%</th>\n",
       "      <th>Cloudiness_%</th>\n",
       "      <th>Wind_Speed_mph</th>\n",
       "      <th>Lat</th>\n",
       "      <th>Lon</th>\n",
       "    </tr>\n",
       "  </thead>\n",
       "  <tbody>\n",
       "    <tr>\n",
       "      <th>3</th>\n",
       "      <td>Saskylakh</td>\n",
       "      <td>-13.47</td>\n",
       "      <td>100.0</td>\n",
       "      <td>87.0</td>\n",
       "      <td>3.06</td>\n",
       "      <td>71.9167</td>\n",
       "      <td>114.0833</td>\n",
       "    </tr>\n",
       "    <tr>\n",
       "      <th>4</th>\n",
       "      <td>Jamestown</td>\n",
       "      <td>43.54</td>\n",
       "      <td>88.0</td>\n",
       "      <td>90.0</td>\n",
       "      <td>1.01</td>\n",
       "      <td>42.0970</td>\n",
       "      <td>-79.2353</td>\n",
       "    </tr>\n",
       "    <tr>\n",
       "      <th>7</th>\n",
       "      <td>Los Llanos de Aridane</td>\n",
       "      <td>65.12</td>\n",
       "      <td>80.0</td>\n",
       "      <td>20.0</td>\n",
       "      <td>3.00</td>\n",
       "      <td>28.6585</td>\n",
       "      <td>-17.9182</td>\n",
       "    </tr>\n",
       "    <tr>\n",
       "      <th>9</th>\n",
       "      <td>Nikolskoye</td>\n",
       "      <td>43.02</td>\n",
       "      <td>80.0</td>\n",
       "      <td>100.0</td>\n",
       "      <td>12.33</td>\n",
       "      <td>59.7035</td>\n",
       "      <td>30.7861</td>\n",
       "    </tr>\n",
       "    <tr>\n",
       "      <th>11</th>\n",
       "      <td>Sangar</td>\n",
       "      <td>20.55</td>\n",
       "      <td>95.0</td>\n",
       "      <td>100.0</td>\n",
       "      <td>7.16</td>\n",
       "      <td>63.9242</td>\n",
       "      <td>127.4739</td>\n",
       "    </tr>\n",
       "  </tbody>\n",
       "</table>\n",
       "</div>"
      ],
      "text/plain": [
       "                     City  Temp_F  Humidity_%  Cloudiness_%  Wind_Speed_mph  \\\n",
       "3               Saskylakh  -13.47       100.0          87.0            3.06   \n",
       "4               Jamestown   43.54        88.0          90.0            1.01   \n",
       "7   Los Llanos de Aridane   65.12        80.0          20.0            3.00   \n",
       "9              Nikolskoye   43.02        80.0         100.0           12.33   \n",
       "11                 Sangar   20.55        95.0         100.0            7.16   \n",
       "\n",
       "        Lat       Lon  \n",
       "3   71.9167  114.0833  \n",
       "4   42.0970  -79.2353  \n",
       "7   28.6585  -17.9182  \n",
       "9   59.7035   30.7861  \n",
       "11  63.9242  127.4739  "
      ]
     },
     "execution_count": 17,
     "metadata": {},
     "output_type": "execute_result"
    }
   ],
   "source": [
    "# Check new Northern Data Frame\n",
    "northern_df.head()"
   ]
  },
  {
   "cell_type": "code",
   "execution_count": 18,
   "metadata": {
    "scrolled": false
   },
   "outputs": [
    {
     "name": "stdout",
     "output_type": "stream",
     "text": [
      "409\n",
      "409\n",
      "409\n",
      "409\n"
     ]
    }
   ],
   "source": [
    "# Convert Northern Hemisphere Temps into an array for plotting\n",
    "northern_temp_array = northern_df[northern_df.columns[1:]].to_numpy()\n",
    "northern_cloudiness_array = northern_df[northern_df.columns[3:]].to_numpy()\n",
    "northern_humidity_array = northern_df[northern_df.columns[2:]].to_numpy()\n",
    "northern_wind_array = northern_df[northern_df.columns[4:]].to_numpy()\n",
    "\n",
    "print(len(northern_temp_array))\n",
    "print(len(northern_cloudiness_array))\n",
    "print(len(northern_humidity_array))\n",
    "print(len(northern_wind_array))"
   ]
  },
  {
   "cell_type": "code",
   "execution_count": 19,
   "metadata": {
    "scrolled": true
   },
   "outputs": [
    {
     "name": "stdout",
     "output_type": "stream",
     "text": [
      "184\n",
      "184\n",
      "184\n",
      "184\n"
     ]
    }
   ],
   "source": [
    "# Convert Southern Hemisphere Temps, Cloudiness, and Windspeed in an array\n",
    "southern_temp_array = southern_df[southern_df.columns[1:]].to_numpy()\n",
    "southern_cloudiness_array = southern_df[southern_df.columns[3:]].to_numpy()\n",
    "southern_humidity_array = southern_df[southern_df.columns[2:]].to_numpy()\n",
    "southern_wind_array = southern_df[southern_df.columns[4:]].to_numpy()\n",
    "\n",
    "print(len(southern_temp_array))\n",
    "print(len(southern_cloudiness_array))\n",
    "print(len(southern_humidity_array))\n",
    "print(len(southern_wind_array))"
   ]
  },
  {
   "cell_type": "markdown",
   "metadata": {},
   "source": [
    "####  Northern Hemisphere - Max Temp vs. Latitude Linear Regression"
   ]
  },
  {
   "cell_type": "code",
   "execution_count": 20,
   "metadata": {
    "scrolled": true
   },
   "outputs": [
    {
     "name": "stdout",
     "output_type": "stream",
     "text": [
      "The r-squared is: 0.8028975075060774\n"
     ]
    },
    {
     "data": {
      "image/png": "[encoded data removed]",
      "text/plain": [
       "<Figure size 720x360 with 1 Axes>"
      ]
     },
     "metadata": {
      "needs_background": "light"
     },
     "output_type": "display_data"
    }
   ],
   "source": [
    "# Print out the r-squared value along with the plot.\n",
    "plt.figure(figsize=(10,5))\n",
    "x_values = northern_df[\"Temp_F\"]\n",
    "y_values = northern_df[\"Lat\"]\n",
    "(slope, intercept, rvalue, pvalue, stderr) = linregress(x_values, y_values)\n",
    "regress_values = x_values * slope + intercept\n",
    "line_eq = \"y = \" + str(round(slope,2)) + \"x + \" + str(round(intercept,2))\n",
    "plt.scatter(x_values,y_values)\n",
    "plt.plot(x_values,regress_values,\"r-\")\n",
    "plt.annotate(line_eq,(6,10),fontsize=15,color=\"red\")\n",
    "plt.xlabel(\"Northern Temp\")\n",
    "plt.ylabel(\"Northern Latitude\")\n",
    "print(f\"The r-squared is: {rvalue**2}\")\n",
    "\n",
    "# Save the Plot\n",
    "plt.savefig(\"Script Outputs/NorthTemp_Lat.png\")\n",
    "\n",
    "# Show Plot\n",
    "plt.show()"
   ]
  },
  {
   "cell_type": "markdown",
   "metadata": {},
   "source": [
    "##### The linear regression model shows that the farther southern you go in the northern hemisphere, the temperature increases.  The data is clustered around the line showing a strong correlation."
   ]
  },
  {
   "cell_type": "markdown",
   "metadata": {},
   "source": [
    "####  Southern Hemisphere - Max Temp vs. Latitude Linear Regression"
   ]
  },
  {
   "cell_type": "code",
   "execution_count": 21,
   "metadata": {},
   "outputs": [
    {
     "name": "stdout",
     "output_type": "stream",
     "text": [
      "The r-squared is: 0.42925316497612975\n"
     ]
    },
    {
     "data": {
      "image/png": "[encoded data removed]",
      "text/plain": [
       "<Figure size 720x360 with 1 Axes>"
      ]
     },
     "metadata": {
      "needs_background": "light"
     },
     "output_type": "display_data"
    }
   ],
   "source": [
    "# Print out the r-squared value along with the plot.\n",
    "plt.figure(figsize=(10,5))\n",
    "x_values = southern_df[\"Temp_F\"]\n",
    "y_values = southern_df[\"Lat\"]\n",
    "(slope, intercept, rvalue, pvalue, stderr) = linregress(x_values, y_values)\n",
    "regress_values = x_values * slope + intercept\n",
    "line_eq = \"y = \" + str(round(slope,2)) + \"x + \" + str(round(intercept,2))\n",
    "plt.scatter(x_values,y_values)\n",
    "plt.plot(x_values,regress_values,\"r-\")\n",
    "plt.annotate(line_eq,(6,10),fontsize=15,color=\"red\")\n",
    "plt.xlabel(\"Southern Hemisphere Temp\")\n",
    "plt.ylabel(\"Southern Hemisphere Latitude\")\n",
    "print(f\"The r-squared is: {rvalue**2}\")\n",
    "\n",
    "# Save the Plot\n",
    "plt.savefig(\"Script Outputs/Southern Temp vs Southern Lat.png\")\n",
    "\n",
    "# Display the Plot\n",
    "plt.show()"
   ]
  },
  {
   "cell_type": "markdown",
   "metadata": {},
   "source": [
    "##### The linear regression shows that the temperature decreases in the southern hemisphere the farther away you get from the equator (lat = 0).  There seems to be a strong correlation as the cluster is consistently, but not entirely, around the regression line."
   ]
  },
  {
   "cell_type": "markdown",
   "metadata": {},
   "source": [
    "####  Northern Hemisphere - Humidity (%) vs. Latitude Linear Regression"
   ]
  },
  {
   "cell_type": "code",
   "execution_count": 22,
   "metadata": {},
   "outputs": [
    {
     "name": "stdout",
     "output_type": "stream",
     "text": [
      "The r-squared is: 0.007899186646738061\n"
     ]
    },
    {
     "data": {
      "image/png": "[encoded data removed]",
      "text/plain": [
       "<Figure size 720x360 with 1 Axes>"
      ]
     },
     "metadata": {
      "needs_background": "light"
     },
     "output_type": "display_data"
    }
   ],
   "source": [
    "# Print out the r-squared value along with the plot.\n",
    "plt.figure(figsize=(10,5))\n",
    "x_values = northern_df[\"Humidity_%\"]\n",
    "y_values = northern_df[\"Lat\"]\n",
    "(slope, intercept, rvalue, pvalue, stderr) = linregress(x_values, y_values)\n",
    "regress_values = x_values * slope + intercept\n",
    "line_eq = \"y = \" + str(round(slope,2)) + \"x + \" + str(round(intercept,2))\n",
    "plt.scatter(x_values,y_values)\n",
    "plt.plot(x_values,regress_values,\"r-\")\n",
    "plt.annotate(line_eq,(6,10),fontsize=15,color=\"red\")\n",
    "plt.xlabel(\"Northern Humidity %\")\n",
    "plt.ylabel(\"Northern Latitude\")\n",
    "print(f\"The r-squared is: {rvalue**2}\")\n",
    "\n",
    "# Save the Plot\n",
    "plt.savefig(\"Script Outputs/Northern Humidity vs Northern Lat.png\")\n",
    "\n",
    "# Display the Plot\n",
    "plt.show()"
   ]
  },
  {
   "cell_type": "markdown",
   "metadata": {},
   "source": [
    "##### There appears to not be a strong correlation on humidity vs. latitudes in the northern hemisphere."
   ]
  },
  {
   "cell_type": "markdown",
   "metadata": {},
   "source": [
    "####  Southern Hemisphere - Humidity (%) vs. Latitude Linear Regression"
   ]
  },
  {
   "cell_type": "code",
   "execution_count": 23,
   "metadata": {
    "scrolled": true
   },
   "outputs": [
    {
     "name": "stdout",
     "output_type": "stream",
     "text": [
      "The r-squared is: 0.05992517355955561\n"
     ]
    },
    {
     "data": {
      "image/png": "[encoded data removed]",
      "text/plain": [
       "<Figure size 720x288 with 1 Axes>"
      ]
     },
     "metadata": {
      "needs_background": "light"
     },
     "output_type": "display_data"
    }
   ],
   "source": [
    "# Print out the r-squared value along with the plot.\n",
    "plt.figure(figsize=(10,4))\n",
    "x_values = southern_df[\"Humidity_%\"]\n",
    "y_values = southern_df[\"Lat\"]\n",
    "(slope, intercept, rvalue, pvalue, stderr) = linregress(x_values, y_values)\n",
    "regress_values = x_values * slope + intercept\n",
    "line_eq = \"y = \" + str(round(slope,2)) + \"x + \" + str(round(intercept,2))\n",
    "plt.scatter(x_values,y_values)\n",
    "plt.plot(x_values,regress_values,\"r-\")\n",
    "plt.annotate(line_eq,(6,10),fontsize=15,color=\"red\")\n",
    "plt.xlabel(\"Southern Hemisphere Humidity %\")\n",
    "plt.ylabel(\"Southern Hemisphere Latitude\")\n",
    "print(f\"The r-squared is: {rvalue**2}\")\n",
    "\n",
    "# Save the Plot\n",
    "plt.savefig(\"Script Outputs/Southern Humidity % vs Southern Lat.png\")\n",
    "\n",
    "# Display the Plot\n",
    "plt.show()"
   ]
  },
  {
   "cell_type": "markdown",
   "metadata": {},
   "source": [
    "##### The humidity percentage in the southern hemisphere does not seem to have a strong correlation in the southern hemisphere."
   ]
  },
  {
   "cell_type": "markdown",
   "metadata": {},
   "source": [
    "####  Northern Hemisphere - Cloudiness (%) vs. Latitude Linear Regression"
   ]
  },
  {
   "cell_type": "code",
   "execution_count": 24,
   "metadata": {
    "scrolled": true
   },
   "outputs": [
    {
     "name": "stdout",
     "output_type": "stream",
     "text": [
      "The r-squared is: 0.019138376724157035\n"
     ]
    },
    {
     "data": {
      "image/png": "[encoded data removed]",
      "text/plain": [
       "<Figure size 720x360 with 1 Axes>"
      ]
     },
     "metadata": {
      "needs_background": "light"
     },
     "output_type": "display_data"
    }
   ],
   "source": [
    "# Print out the r-squared value along with the plot.\n",
    "plt.figure(figsize=(10,5))\n",
    "x_values = northern_df[\"Cloudiness_%\"]\n",
    "y_values = northern_df[\"Lat\"]\n",
    "(slope, intercept, rvalue, pvalue, stderr) = linregress(x_values, y_values)\n",
    "regress_values = x_values * slope + intercept\n",
    "line_eq = \"y = \" + str(round(slope,2)) + \"x + \" + str(round(intercept,2))\n",
    "plt.scatter(x_values,y_values)\n",
    "plt.plot(x_values,regress_values,\"r-\")\n",
    "plt.annotate(line_eq,(6,10),fontsize=15,color=\"red\")\n",
    "plt.xlabel(\"Northern Cloudiness %\")\n",
    "plt.ylabel(\"Northern Latitude\")\n",
    "print(f\"The r-squared is: {rvalue**2}\")\n",
    "\n",
    "# Save the Plot\n",
    "plt.savefig(\"Script Outputs/Northern Cloudiness % vs Northern Lat.png\")\n",
    "\n",
    "# Display the Plot\n",
    "plt.show()"
   ]
  },
  {
   "cell_type": "markdown",
   "metadata": {},
   "source": [
    "##### The more extreme of the latitudes, the more the cloudiness seems to vary in the northern hemisphere."
   ]
  },
  {
   "cell_type": "markdown",
   "metadata": {},
   "source": [
    "####  Southern Hemisphere - Cloudiness (%) vs. Latitude Linear Regression"
   ]
  },
  {
   "cell_type": "code",
   "execution_count": 25,
   "metadata": {
    "scrolled": false
   },
   "outputs": [
    {
     "name": "stdout",
     "output_type": "stream",
     "text": [
      "The r-squared is: 0.00035526177334765057\n"
     ]
    },
    {
     "data": {
      "image/png": "[encoded data removed]",
      "text/plain": [
       "<Figure size 720x288 with 1 Axes>"
      ]
     },
     "metadata": {
      "needs_background": "light"
     },
     "output_type": "display_data"
    }
   ],
   "source": [
    "# Print out the r-squared value along with the plot.\n",
    "plt.figure(figsize=(10,4))\n",
    "x_values = southern_df[\"Cloudiness_%\"]\n",
    "y_values = southern_df[\"Lat\"]\n",
    "(slope, intercept, rvalue, pvalue, stderr) = linregress(x_values, y_values)\n",
    "regress_values = x_values * slope + intercept\n",
    "line_eq = \"y = \" + str(round(slope,2)) + \"x + \" + str(round(intercept,2))\n",
    "plt.scatter(x_values,y_values)\n",
    "plt.plot(x_values,regress_values,\"r-\")\n",
    "plt.annotate(line_eq,(6,10),fontsize=15,color=\"red\")\n",
    "plt.xlabel(\"Southern Hemisphere Cloudiness %\")\n",
    "plt.ylabel(\"Southern Hemisphere Latitude\")\n",
    "print(f\"The r-squared is: {rvalue**2}\")\n",
    "\n",
    "# Save the Plot\n",
    "plt.savefig(\"Script Outputs/Southern Cloudiness % vs Southern Lat.png\")\n",
    "\n",
    "# Display the Plot\n",
    "plt.show()"
   ]
  },
  {
   "cell_type": "markdown",
   "metadata": {},
   "source": [
    "##### The cloudiness tends to not have a strong correlation with latitude in the southern hemisphere with the exception of a high-degree of cloudiness cluster at the equator (latitude = 0)."
   ]
  },
  {
   "cell_type": "markdown",
   "metadata": {},
   "source": [
    "####  Northern Hemisphere - Wind Speed (mph) vs. Latitude Linear Regression"
   ]
  },
  {
   "cell_type": "code",
   "execution_count": 26,
   "metadata": {
    "scrolled": true
   },
   "outputs": [
    {
     "name": "stdout",
     "output_type": "stream",
     "text": [
      "The r-squared is: 0.05132878251684161\n"
     ]
    },
    {
     "data": {
      "image/png": "[encoded data removed]",
      "text/plain": [
       "<Figure size 720x360 with 1 Axes>"
      ]
     },
     "metadata": {
      "needs_background": "light"
     },
     "output_type": "display_data"
    }
   ],
   "source": [
    "# Print out the r-squared value along with the plot.\n",
    "plt.figure(figsize=(10,5))\n",
    "x_values = northern_df[\"Wind_Speed_mph\"]\n",
    "y_values = northern_df[\"Lat\"]\n",
    "(slope, intercept, rvalue, pvalue, stderr) = linregress(x_values, y_values)\n",
    "regress_values = x_values * slope + intercept\n",
    "line_eq = \"y = \" + str(round(slope,2)) + \"x + \" + str(round(intercept,2))\n",
    "plt.scatter(x_values,y_values)\n",
    "plt.plot(x_values,regress_values,\"r-\")\n",
    "plt.annotate(line_eq,(6,10),fontsize=15,color=\"red\")\n",
    "plt.xlabel(\"Northern Windspeed (mph)\")\n",
    "plt.ylabel(\"Northern Latitude\")\n",
    "print(f\"The r-squared is: {rvalue**2}\")\n",
    "\n",
    "# Save the Plot\n",
    "plt.savefig(\"Script Outputs/Northern Windspeed vs Northern Lat.png\")\n",
    "\n",
    "# Display the Plot\n",
    "plt.show()"
   ]
  },
  {
   "cell_type": "markdown",
   "metadata": {},
   "source": [
    "##### The windspeed tends to be higher in the higher latitudes in the northern hemisphere with more variance the further south (closer to the equator) you go in the northern hemisphere."
   ]
  },
  {
   "cell_type": "markdown",
   "metadata": {},
   "source": [
    "####  Southern Hemisphere - Wind Speed (mph) vs. Latitude Linear Regression"
   ]
  },
  {
   "cell_type": "code",
   "execution_count": 27,
   "metadata": {
    "scrolled": true
   },
   "outputs": [
    {
     "name": "stdout",
     "output_type": "stream",
     "text": [
      "The r-squared is: 0.09838629478846563\n"
     ]
    },
    {
     "data": {
      "image/png": "[encoded data removed]",
      "text/plain": [
       "<Figure size 720x360 with 1 Axes>"
      ]
     },
     "metadata": {
      "needs_background": "light"
     },
     "output_type": "display_data"
    }
   ],
   "source": [
    "# Print out the r-squared value along with the plot.\n",
    "plt.figure(figsize=(10,5))\n",
    "x_values = southern_df[\"Wind_Speed_mph\"]\n",
    "y_values = southern_df[\"Lat\"]\n",
    "(slope, intercept, rvalue, pvalue, stderr) = linregress(x_values, y_values)\n",
    "regress_values = x_values * slope + intercept\n",
    "line_eq = \"y = \" + str(round(slope,2)) + \"x + \" + str(round(intercept,2))\n",
    "plt.scatter(x_values,y_values)\n",
    "plt.plot(x_values,regress_values,\"r-\")\n",
    "plt.annotate(line_eq,(6,10),fontsize=15,color=\"red\")\n",
    "plt.xlabel(\"Southern Hemisphere Windspeed (mph)\")\n",
    "plt.ylabel(\"Southern Hemisphere Latitude\")\n",
    "print(f\"The r-squared is: {rvalue**2}\")\n",
    "\n",
    "# Save the Plot\n",
    "plt.savefig(\"Script Outputs/Southern Windspeed vs Southern Lat.png\")\n",
    "\n",
    "# Display the Plot\n",
    "plt.show()"
   ]
  },
  {
   "cell_type": "markdown",
   "metadata": {},
   "source": [
    "##### Like the northern hemisphere, the windspeed tends to be higher in the lower latitudes in the southern hemisphere with more variance the further north (closer to equator) you go in the southern hemisphere."
   ]
  }
 ],
 "metadata": {
  "anaconda-cloud": {},
  "kernel_info": {
   "name": "python3"
  },
  "kernelspec": {
   "display_name": "Python 3",
   "language": "python",
   "name": "python3"
  },
  "language_info": {
   "codemirror_mode": {
    "name": "ipython",
    "version": 3
   },
   "file_extension": ".py",
   "mimetype": "text/x-python",
   "name": "python",
   "nbconvert_exporter": "python",
   "pygments_lexer": "ipython3",
   "version": "3.6.13"
  },
  "latex_envs": {
   "LaTeX_envs_menu_present": true,
   "autoclose": false,
   "autocomplete": true,
   "bibliofile": "biblio.bib",
   "cite_by": "apalike",
   "current_citInitial": 1,
   "eqLabelWithNumbers": true,
   "eqNumInitial": 1,
   "hotkeys": {
    "equation": "Ctrl-E",
    "itemize": "Ctrl-I"
   },
   "labels_anchors": false,
   "latex_user_defs": false,
   "report_style_numbering": false,
   "user_envs_cfg": false
  },
  "nteract": {
   "version": "0.12.3"
  }
 },
 "nbformat": 4,
 "nbformat_minor": 2
}
